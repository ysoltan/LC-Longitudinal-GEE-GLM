{
 "cells": [
  {
   "cell_type": "markdown",
   "metadata": {},
   "source": [
    "## Data Prep Mortality rate, Human Development Index and Regions/Super_Regions"
   ]
  },
  {
   "cell_type": "code",
   "execution_count": 1,
   "metadata": {},
   "outputs": [],
   "source": [
    "import numpy as np\n",
    "import pandas as pd\n",
    "\n",
    "from os import path\n",
    "\n",
    "\n",
    "import warnings\n",
    "warnings.filterwarnings('ignore')"
   ]
  },
  {
   "cell_type": "code",
   "execution_count": 2,
   "metadata": {},
   "outputs": [],
   "source": [
    "p = path.join('Data', 'IHME-GBD_2016_Lung.csv')\n",
    "p = path.abspath(p)"
   ]
  },
  {
   "cell_type": "code",
   "execution_count": 3,
   "metadata": {},
   "outputs": [
    {
     "data": {
      "text/plain": [
       "'p2 = path.join(\"/Users/user/Documents/publication/Bioinformatics/LC/LC-Pub-IHME-GBD_2016/\",\"IHME-GBD_2016_Lung_01.csv\")\\np2 = path.abspath(p2)\\np2\\ndf=pd.read_csv(p2)'"
      ]
     },
     "execution_count": 3,
     "metadata": {},
     "output_type": "execute_result"
    }
   ],
   "source": [
    "#Reading file\n",
    "'''p2 = path.join(\"/Users/user/Documents/publication/Bioinformatics/LC/LC-Pub-IHME-GBD_2016/\",\"IHME-GBD_2016_Lung_01.csv\")\n",
    "p2 = path.abspath(p2)\n",
    "p2\n",
    "df=pd.read_csv(p2)'''"
   ]
  },
  {
   "cell_type": "code",
   "execution_count": 4,
   "metadata": {
    "scrolled": false
   },
   "outputs": [],
   "source": [
    "# Data are collected from: Global Health Data Exchange\n",
    "LC_url = \"Data/IHME-GBD_2016_Lung.csv\"\n",
    "LC_df = pd.read_csv(LC_url)\n",
    "\n",
    "#Data are collected from: UNITED NATIONS DEVELOPMENT PROGRAMME, Human Development Reports\n",
    "\n",
    "HDI_url = \"Data/Human development index (HDI)1990-2015.csv\"\n",
    "HDI_df = pd.read_csv(HDI_url)\n",
    "\n",
    "\n",
    "r_sr_url = \"Data/r_rs.csv\"\n",
    "r_sr_df = pd.read_csv(r_sr_url)\n",
    "r_sr_df.drop(\"Unnamed: 0\", axis=1,inplace=True)"
   ]
  },
  {
   "cell_type": "markdown",
   "metadata": {},
   "source": [
    "### Working with Human Developement Index File: \n",
    "> #### Need to rename year columns to be able to change the current wide form into long form   "
   ]
  },
  {
   "cell_type": "code",
   "execution_count": 5,
   "metadata": {},
   "outputs": [],
   "source": [
    "for i in range(2,HDI_df.columns[2:].size+2):\n",
    "    HDI_df.rename(columns={HDI_df.columns[i] : \"HDI-\"+str(HDI_df.columns[i])}, inplace=True)"
   ]
  },
  {
   "cell_type": "code",
   "execution_count": 6,
   "metadata": {},
   "outputs": [],
   "source": [
    "#Add id to each country\n",
    "HDI_df[\"id\"]= HDI_df.index"
   ]
  },
  {
   "cell_type": "code",
   "execution_count": 7,
   "metadata": {},
   "outputs": [],
   "source": [
    "#Wide to Long form\n",
    "HDI_df_long = pd.wide_to_long(HDI_df,\"HDI\", i= [\"Country\"] ,j = \"Year\", sep=\"-\", suffix='\\w')"
   ]
  },
  {
   "cell_type": "code",
   "execution_count": 8,
   "metadata": {},
   "outputs": [],
   "source": [
    "#Sort and Reset index\n",
    "HDI_df_long.sort_index(inplace=True)\n",
    "HDI_df_long.reset_index(inplace=True)"
   ]
  },
  {
   "cell_type": "code",
   "execution_count": 9,
   "metadata": {},
   "outputs": [],
   "source": [
    "#Select needed columns\n",
    "HDI_df_long=HDI_df_long[[\"Country\",\"id\",\"Year\",\"HDI\"]]"
   ]
  },
  {
   "cell_type": "code",
   "execution_count": 10,
   "metadata": {},
   "outputs": [],
   "source": [
    "# Rename columns\n",
    "HDI_df_long.rename(columns={\"Country\":\"country\",\"Year\" : \"year\"},inplace=True)"
   ]
  },
  {
   "cell_type": "code",
   "execution_count": 11,
   "metadata": {
    "scrolled": true
   },
   "outputs": [
    {
     "data": {
      "text/plain": [
       "Index(['country', 'id', 'year', 'HDI'], dtype='object')"
      ]
     },
     "execution_count": 11,
     "metadata": {},
     "output_type": "execute_result"
    }
   ],
   "source": [
    "HDI_df_long.columns"
   ]
  },
  {
   "cell_type": "markdown",
   "metadata": {},
   "source": [
    "### Working with Lung Cancer File: "
   ]
  },
  {
   "cell_type": "code",
   "execution_count": 12,
   "metadata": {
    "scrolled": true
   },
   "outputs": [],
   "source": [
    "#Select needed columns\n",
    "LC_df = LC_df[[\"location\",\"year\",\"sex\",\"val\"]]"
   ]
  },
  {
   "cell_type": "code",
   "execution_count": 13,
   "metadata": {},
   "outputs": [],
   "source": [
    "# Rename columns\n",
    "LC_df.rename(columns={\"location\": \"country\",\"val\": \"MR\"} , inplace=True)"
   ]
  },
  {
   "cell_type": "markdown",
   "metadata": {},
   "source": [
    "> ### Need to add region and super region "
   ]
  },
  {
   "cell_type": "code",
   "execution_count": 14,
   "metadata": {},
   "outputs": [],
   "source": [
    "LC_df[\"region\"] =\"\"\n",
    "LC_df[\"super_region\"]=\"\""
   ]
  },
  {
   "cell_type": "code",
   "execution_count": 15,
   "metadata": {},
   "outputs": [
    {
     "name": "stdout",
     "output_type": "stream",
     "text": [
      "Index(['Location', 'region', 'super_region'], dtype='object')\n",
      "Index(['country', 'year', 'sex', 'MR', 'region', 'super_region'], dtype='object')\n"
     ]
    }
   ],
   "source": [
    "print(r_sr_df.columns)\n",
    "print(LC_df.columns)"
   ]
  },
  {
   "cell_type": "code",
   "execution_count": 16,
   "metadata": {},
   "outputs": [],
   "source": [
    "for i in range(LC_df.shape[0]):\n",
    "    for j in range(r_sr_df.shape[0]):\n",
    "        if LC_df.iloc[i,LC_df.columns.get_loc(\"country\")] == r_sr_df.iloc[j,r_sr_df.columns.get_loc(\"Location\")]:\n",
    "            LC_df.iloc[i,LC_df.columns.get_loc(\"region\")] = r_sr_df.iloc[j,r_sr_df.columns.get_loc(\"region\")]\n",
    "            LC_df.iloc[i,LC_df.columns.get_loc(\"super_region\")] = r_sr_df.iloc[j,r_sr_df.columns.get_loc(\"super_region\")]"
   ]
  },
  {
   "cell_type": "markdown",
   "metadata": {},
   "source": [
    "### Countries names Dcitionary"
   ]
  },
  {
   "cell_type": "code",
   "execution_count": 17,
   "metadata": {},
   "outputs": [],
   "source": [
    "#\"Write in a JSON\n",
    "countries_dict = {\n",
    "\"Afghanistan\":[\"Islamic Republic of Afghanistan \",\"Afghanistan\"],\n",
    "\"Albania\":[\"Republic of Albania\",\"Albania\"],\n",
    "\"Algeria\":[\"People’s Democratic Republic of Algeria\",\"Algeria\"],\n",
    "\"American Samoa\":[\"American Samoa\"],\n",
    "\"Andorra\":[\" Principality of Andorra \",\"Andorra\"],\n",
    "\"Angola\":[\"Republic of Angola\",\"Angola\"],\n",
    "\"Antigua and Barbuda\":[\"Antigua and Barbuda \"],\n",
    "\"Argentina\":[\"Republic of Argentina \",\"Argentina\"],\n",
    "\"Armenia\":[\"Republic of Armenia \",\"Armenia\"],\n",
    "\"Australia\":[\"Commonwealth of Australia \",\"Australia\"],\n",
    "\"Austria\":[\"Republic of Austria\",\"Austria\"],\n",
    "\"Azerbaijan\":[\"Republic of Azerbaijan \",\"Azerbaijan\"],\n",
    "\"Bahamas\":[\"The Bahamas\",\"Commonwealth of the Bahamas \", \"Bahamas\"],\n",
    "\"Bahrain\":[\"Kingdom of Bahrain \",\"Bahrain\"],\n",
    "\"Bangladesh\":[\"People’s Republic of Bangladesh\",\"Bangladesh\"],\n",
    "\"Barbados\":[\"Barbados\"],\n",
    "\"Belarus\":[\"Republic of Belarus\",\"Belarus\"],\n",
    "\"Belgium\":[\"Kingdom of Belgium \",\"Belgium\"],\n",
    "\"Belize\":[\"Belize\"],\n",
    "\"Benin\":[\"Republic of Benin\",\"Benin\"],\n",
    "\"Bermuda\":[\"Bermuda\"],\n",
    "\"Bhutan\":[\"Kingdom of Bhutan\",\"Bhutan\"],\n",
    "\"Bolivia\":[\"Plurinational State of Bolivia (Plurinational State of) \",\"Bolivia\",\" Bolivia (Plurinational State of)\"],\n",
    "\"Bosnia and Herzegovina\":[\"Bosnia and Herzegovina\",\"Bosnia and Herzegovina\"],\n",
    "\"Botswana\":[\"Republic of Botswana\",\"Botswana\"],\n",
    "\"Brazil\":[\"Federative Republic of Brazil\",\"Brazil\"],\n",
    "\"Brunei\":[\"Negara Brunei Darussalam\",\"Brunei\",\" Brunei Darussalam\"],\n",
    "\"Bulgaria\":[\"Republic of Bulgaria\",\"Bulgaria\"],\n",
    "\"Burkina Faso\":[\"Burkina Faso\"],\n",
    "\"Burundi\":[\"Republic of Burundi\",\"Burundi\"],\n",
    "\"Cabo Verde\":[\"Republic of Cabo Verde\",\"Cape Verde\",\" Cabo Verde\"],\n",
    "\"Cambodia\":[\"Kingdom of Cambodia\",\"Cambodia\"],\n",
    "\"Cameroon\":[\"Republic of Cameroon\",\"Cameroon\"],\n",
    "\"Canada\":[\"Canada\"],\n",
    "\"Central African Republic\":[\"Central African Republic\"],\n",
    "\"Chad\":[\"Republic of Chad\",\"Chad\"],\n",
    "\"Chile\":[\"Republic of Chile\",\"Chile\"],\n",
    "\"China\":[\"People’s Republic of China\",\"China\"],\n",
    "\"Colombia\":[\"Republic of Colombia\",\"Colombia\"],\n",
    "\"Comoros\":[\"Union of the Comoros\",\"Comoros\"],\n",
    "\"The Congo\":[\"The Congo\",\"Congo, Democratic Republic of the\",\"Democratic Republic of the Congo\",\"Congo (Democratic Republic of the)\"],\n",
    "\"Congo, Republic of the\":[\"Congo (Republic of the)\", \"Congo, Republic of the\", \"Republic of the Congo\"],\n",
    "\"Costa Rica\":[\"Republic of Costa Rica\",\"Costa Rica\"],\n",
    "\"Ivory coast\":[\"Republic of Côte d’Ivoire\",\"Cote d'Ivoire\",\"Ivory coast\",\"Côte d’Ivoire\"],\n",
    "\"Croatia\":[\"Republic of Croatia\",\"Croatia\"],\n",
    "\"Cuba\":[\"Republic of Cuba\",\"Cuba\"],\n",
    "\"Cyprus\":[\"Republic of Cyprus \",\"Cyprus\"],\n",
    "\"Czech Republic\":[\"Czech Republic\"],\n",
    "\"Denmark\":[\"Kingdom of Denmark\",\"Denmark\"],\n",
    "\"Djibouti\":[\"Republic of Djibouti\",\"Djibouti\"],\n",
    "\"Dominica\":[\"Commonwealth of Dominica\",\"Dominica\"],\n",
    "\"Dominican Republic\":[\"Dominican Republic\"],\n",
    "\"East Timor\":[\"Democratic Republic of Timor-Leste\",\"Timor Leste\",\"Timor-Leste\",\"East Timor\"],\n",
    "\"Ecuador\":[\"Republic of Ecuador\",\"Ecuador\"],\n",
    "\"Egypt\":[\"Arab Republic of Egypt\",\"Egypt\"],\n",
    "\"El Salvador\":[\"Republic of El Salvador\",\"El Salvador\"],\n",
    "\"Equatorial Guinea\":[\"Republic of Equatorial Guinea\",\"Equatorial Guinea\"],\n",
    "\"Eritrea\":[\"State of Eritrea\",\"Eritrea\"],\n",
    "\"Estonia\":[\"Republic of Estonia\",\"Estonia\"],\n",
    "\"Ethiopia\":[\"Federal Democratic Republic of Ethiopia \",\"Ethiopia\"],\n",
    "\"Micronesia\":[\"Federated States of Micronesia\",\" Micronesia (Federated States of)\",\"Micronesia\"],\n",
    "\"Fiji\":[\"Republic of Fiji\",\"Fiji\"],\n",
    "\"Finland\":[\"Republic of Finland\",\"Finland\"],\n",
    "\"France\":[\"Republic of France\",\"France\"],\n",
    "\"Gabon\":[\"Gabonese Republic (Gabon)\",\"Gabon\"],\n",
    "\"Gambia\":[\"The Gambia\",\"Republic of The Gambia\", \"Gambia\"],\n",
    "\"Georgia\":[\"Georgia\"],\n",
    "\"Germany\":[\"Federal Republic of Germany\",\"Germany\"],\n",
    "\"Ghana\":[\"Republic of Ghana\",\"Ghana\"],\n",
    "\"Greece\":[\"Hellenic Republic (Greece)\",\"Greece\"],\n",
    "\"Greenland\":[\"Greenland\"],\n",
    "\"Grenada\":[\"Grenada\"],\n",
    "\"Guam\":[\"Guam\"],\n",
    "\"Guatemala\":[\"Republic of Guatemala\",\"Guatemala\"],\n",
    "\"Guinea\":[\"Republic of Guinea\",\"Guinea\"],\n",
    "\"Guinea-Bissau\":[\"Republic of Guinea-Bissau\",\"Guinea-Bissau\"],\n",
    "\"Guyana\":[\"Republic of Guyana\",\"Guyana\"],\n",
    "\"Haiti\":[\"Republic of Haiti\",\"Haiti\"],\n",
    "\"Honduras\":[\"Republic of Honduras\",\"Honduras\"],\n",
    "\"Hong Kong\":[\"Hong Kong\",\"Hong Kong, China (SAR)\"],\n",
    "\"Hungary\":[\"Hungary\"],\n",
    "\"Iceland\":[\"Republic of Iceland\",\"Iceland\"],\n",
    "\"India\":[\"Republic of India\",\"India\"],\n",
    "\"Indonesia\":[\"Republic of Indonesia\",\"Indonesia\"],\n",
    "\"Iran\":[\"Islamic Republic of Iran (Islamic Republic of)\",\"Iran\",\" Iran (Islamic Republic of)\"],\n",
    "\"Iraq\":[\"Republic of Iraq\",\"Iraq\"],\n",
    "\"Ireland\":[\"Ireland\"],\n",
    "\"Israel\":[\"State of Israel\",\"Israel\"],\n",
    "\"Italy\":[\"Republic of Italy\",\"Italy\"],\n",
    "\"Jamaica\":[\"Jamaica\"],\n",
    "\"Japan\":[\"Japan\"],\n",
    "\"Jordan\":[\"Hashemite Kingdom of Jordan\",\"Jordan\"],\n",
    "\"Kazakhstan\":[\"Republic of Kazakhstan\",\"Kazakhstan\"],\n",
    "\"Kenya\":[\"Republic of Kenya\",\"Kenya\"],\n",
    "\"Kiribati\":[\"Republic of Kiribati\",\"Kiribati\"],\n",
    "\"North Korea\":[\"North Korea\", \"Korea, North\",\"Democratic People’s Republic of Korea\",\"Korea (Democratic People's Republic of )\"],\n",
    "\"South Korea\":[\"Korea, South\",\"Republic of Korea\", \"Korea (Republic of)\", \"South Korea\"],\n",
    "\"Kosovo\":[\"Kosovo\"],\n",
    "\"Kuwait\":[\"State of Kuwait\",\"Kuwait\"],\n",
    "\"Kyrgyzstan\":[\"Kyrgyz Republic (Kyrgyzstan)\",\"Kyrgyzstan\"],\n",
    "\"Laos\":[\"Lao People’s Democratic Republic\",\"Laos\"],\n",
    "\"Latvia\":[\"Republic of Latvia\",\"Latvia\"],\n",
    "\"Lebanon\":[\"Republic of Lebanon\",\"Lebanon\"],\n",
    "\"Lesotho\":[\"Kingdom of Lesotho\",\"Lesotho\"],\n",
    "\"Liberia\":[\"Republic of Liberia\",\"Liberia\"],\n",
    "\"Libya\":[\"State of Libya\",\"Libya\"],\n",
    "\"Liechtenstein\":[\"Principality of Liechtenstein\",\" Liechtenstein\"],\n",
    "\"Lithuania\":[\"Republic of Lithuania\",\" Lithuania\"],\n",
    "\"Luxembourg\":[\"Grand Duchy of Luxembourg\",\"Luxembourg\"],\n",
    "\"Macedonia\":[\"Macedonia\",\"The former Yugoslav Republic of Macedonia \",\"Macedonia (The former Yugoslav Republic of) \"],\n",
    "\"Madagascar\":[\"Republic of Madagascar\",\"Madagascar\"],\n",
    "\"Malawi\":[\"Republic of Malawi\",\"Malawi\"],\n",
    "\"Malaysia\":[\"Malaysia\"],\n",
    "\"Maldives\":[\"Republic of Maldives\",\"Maldives\"],\n",
    "\"Mali\":[\"Republic of Mali\",\"Mali\"],\n",
    "\"Malta\":[\"Republic of Malta\",\"Malta\"],\n",
    "\"Marshall Islands\":[\"Republic of the Marshall Islands\",\"Marshall Islands\"],\n",
    "\"Mauritania\":[\"Islamic Republic of Mauritania\",\"Mauritania\"],\n",
    "\"Mauritius\":[\"Republic of Mauritius\",\"Mauritius\"],\n",
    "\"Mexico\":[\"United Mexican States (Mexico)\",\"Mexico\"],\n",
    "\"Micronesia, Federated States of\":[\"Micronesia, Federated States of\",\"Federated States of Micronesia (Federated States of)\", \"Micronesia (Federated States of)\"],\n",
    "\"Moldova\":[\"Republic of Moldova\",\"Moldova\",\" Moldova (Republic of)\"],\n",
    "\"Monaco\":[\"Principality of Monaco\", \"Monaco\"],\n",
    "\"Mongolia\":[\"Mongolia\"],\n",
    "\"Montenegro\":[\"Montenegro\"],\n",
    "\"Morocco\":[\"Kingdom of Morocco\",\"Morocco\"],\n",
    "\"Mozambique\":[\"Republic of Mozambique\",\"Mozambique\"],\n",
    "\"Myanmar\":[\"Republic of the Union of Myanmar\",\"Myanmar (Burma)\",\" Myanmar\"],\n",
    "\"Namibia\":[\"Republic of Namibia\",\"Namibia\"],\n",
    "\"Nauru\":[\"Republic of Nauru\"],\n",
    "\"Nepal\":[\"Federal Democratic Republic of Nepal\",\"Nepal\"],\n",
    "\"Netherlands\":[\"Kingdom of the Netherlands\",\"Netherlands\"],\n",
    "\"New Zealand\":[\"New Zealand\"],\n",
    "\"Nicaragua\":[\"Republic of Nicaragua\",\"Nicaragua\"],\n",
    "\"Niger\":[\"Republic of the Niger\",\"Niger\"],\n",
    "\"Nigeria\":[\"Federal Republic of Nigeria\",\"Nigeria\"],\n",
    "\"Northern Mariana Islands\":[\"Northern Mariana Islands\"],\n",
    "\"Norway\":[\"Kingdom of Norway\",\"Norway\"],\n",
    "\"Oman\":[\"Sultanate of Oman\",\"Oman\"],\n",
    "\"Pakistan\":[\"Islamic Republic of Pakistan\",\"Pakistan\"],\n",
    "\"Palestine\":[\"State of Palestine\",\" Palestine, State of\",\"Palestine\"],\n",
    "\"Palau\":[\"Republic of Palau\", \" Palau\"],\n",
    "\"Panama\":[\"Republic of Panama\",\"Panama\"],\n",
    "\"Papua New Guinea\":[\"Independent State of Papua New Guinea\",\"Papua New Guinea\"],\n",
    "\"Paraguay\":[\"Republic of Paraguay\",\"Paraguay\"],\n",
    "\"Peru\":[\"Republic of Peru\",\"Peru\"],\n",
    "\"Philippines\":[\"Republic of the Philippines\",\"Philippines\"],\n",
    "\"Poland\":[\"Republic of Poland\",\"Poland\"],\n",
    "\"Portugal\":[\"Portuguese Republic (Portugal) \",\"Portugal\"],\n",
    "\"Puerto Rico\":[\"Puerto Rico\"],\n",
    "\"Qatar\":[\"State of Qatar\",\"Qatar\"],\n",
    "\"Romania\":[\"Romania\"],\n",
    "\"Russia\":[\"Russian Federation\",\"Russia\"],\n",
    "\"Rwanda\":[\"Republic of Rwanda\",\"Rwanda\"],\n",
    "\"Saint Kitts and Nevis\":[\"Saint Kitts and Nevis\"],\n",
    "\"Saint Lucia\":[\"Saint Lucia\"],\n",
    "\"Saint Vincent and the Grenadines\":[\"Saint Vincent and the Grenadines\"],\n",
    "\"Samoa\":[\"Independent State of Samoa\",\"Samoa\"],\n",
    "\"San Marino\":[\"Republic of San Marino\", \"San Marino\"],\n",
    "\"Sao Tome and Principe\":[\"Democratic Republic of Sao Tome and Principe \",\"Sao Tome and Principe\"],\n",
    "\"Saudi Arabia\":[\"Kingdom of Saudi Arabia\",\"Saudi Arabia\"],\n",
    "\"Senegal\":[\"Republic of Senegal\",\"Senegal\"],\n",
    "\"Serbia\":[\"Republic of Serbia\",\"Serbia\"],\n",
    "\"Seychelles\":[\"Republic of Seychelles\",\"Seychelles\"],\n",
    "\"Sierra Leone\":[\"Republic of Sierra Leone\",\"Sierra Leone\"],\n",
    "\"Singapore\":[\"Republic of Singapore\",\"Singapore\"],\n",
    "\"Slovakia\":[\"Slovak Republic (Slovakia)\",\"Slovakia\"],\n",
    "\"Slovenia\":[\"Republic of Slovenia\",\"Slovenia\"],\n",
    "\"Solomon Islands\":[\"Solomon Islands\"],\n",
    "\"Somalia\":[\"Federal Republic of Somalia\",\"Somalia\"],\n",
    "\"South Africa\":[\"Republic of South Africa\",\"South Africa\"],\n",
    "\"Spain\":[\"Kingdom of Spain\",\"Spain\"],\n",
    "\"Sri Lanka\":[\"Democratic Socialist Republic of Sri Lanka \",\"Sri Lanka\"],\n",
    "\"Sudan\":[\"Republic of the Sudan\",\"Sudan\"],\n",
    "\"South Sudan\":[\"Republic of South Sudan\",\"Sudan, South\",\"South Sudan\"],\n",
    "\"Suriname\":[\"Republic of Suriname\",\"Suriname\"],\n",
    "\"Swaziland\":[\"Kingdom of Swaziland\",\"Swaziland\"],\n",
    "\"Sweden\":[\"Kingdom of Sweden\",\"Sweden\"],\n",
    "\"Switzerland\":[\"Swiss Confederation (Switzerland)\",\"Switzerland\"],\n",
    "\"Syria\":[\"Syrian Arab Republic\",\"Syria\"],\n",
    "\"Taiwan\":[\"Taiwan\"],\n",
    "\"Tajikistan\":[\"Republic of Tajikistan\",\"Tajikistan\"],\n",
    "\"Tanzania\":[\"United Republic of Tanzania\",\"Tanzania\",\" Tanzania (United Republic of)\"],\n",
    "\"Thailand\":[\"Kingdom of Thailand\",\"Thailand\"],\n",
    "\"Togo\":[\"Republic of Togo\",\"Togo\"],\n",
    "\"Tonga\":[\"Kingdom of Tonga\",\"Tonga\"],\n",
    "\"Trinidad and Tobago\":[\"Republic of Trinidad and Tobago\",\"Trinidad and Tobago\"],\n",
    "\"Tunisia\":[\"Republic of Tunisia\",\"Tunisia\"],\n",
    "\"Turkey\":[\"Republic of Turkey\",\"Turkey\"],\n",
    "\"Turkmenistan\":[\"Turkmenistan\",\"Turkmenistan\"],\n",
    "\"Tuvalu\":[\"Tuvalu\"],\n",
    "\"Uganda\":[\"Republic of Uganda\", \" Uganda\"],\n",
    "\"Ukraine\":[\"Ukraine\"],\n",
    "\"United Arab Emirates\":[\"United Arab Emirates\"],\n",
    "\"United Kingdom\":[\"United Kingdom of Great Britain and Northern Ireland\",\"United Kingdom\"],\n",
    "\"United States\":[\"United States of America\",\"United States\"],\n",
    "\"Uruguay\":[\"Oriental Republic of Uruguay \",\"Uruguay\"],\n",
    "\"Uzbekistan\":[\"Republic of Uzbekistan\",\"Uzbekistan\"],\n",
    "\"Vanuatu\":[\"Republic of Vanuatu\",\"Vanuatu\"],\n",
    "\"Vatican City\":[ \"Vatican City\"],\n",
    "\"Venezuela\":[\"Bolivarian Republic of Venezuela \",\" Venezuela (Bolivarian Republic of)\",\"Venezuela\"],\n",
    "\"Vietnam\":[\"Socialist Republic of Viet Nam \",\"Vietnam\",\" Viet Nam\"],\n",
    "\"Virgin Islands, U.S.\":[\"Virgin Islands, U.S.\"],\n",
    "\"Yemen\":[\"Republic of Yemen \",\"Yemen\"],\n",
    "\"Zambia\":[\"Republic of Zambia \",\"Zambia\"],\n",
    "\"Zimbabwe\":[\"Republic of Zimbabwe \",\"Zimbabwe\"]\n",
    "}"
   ]
  },
  {
   "cell_type": "markdown",
   "metadata": {},
   "source": [
    "### Combine LC_df and HDI_df_long to include:\n",
    "> ### country, id, region, super-region, year, sex, MR, HDI "
   ]
  },
  {
   "cell_type": "code",
   "execution_count": 18,
   "metadata": {
    "scrolled": true
   },
   "outputs": [
    {
     "name": "stdout",
     "output_type": "stream",
     "text": [
      "Index(['country', 'year', 'sex', 'MR', 'region', 'super_region'], dtype='object')\n",
      "Index(['country', 'id', 'year', 'HDI'], dtype='object')\n"
     ]
    }
   ],
   "source": [
    "#LC_HDI ('country', 'id','region', 'super_region', 'year', 'sex', 'MR', 'HDI')\n",
    "print(LC_df.columns)\n",
    "print(HDI_df_long.columns)"
   ]
  },
  {
   "cell_type": "code",
   "execution_count": 19,
   "metadata": {},
   "outputs": [
    {
     "name": "stdout",
     "output_type": "stream",
     "text": [
      "195\n",
      "188\n"
     ]
    }
   ],
   "source": [
    "#Number of unique countries in each dataframe\n",
    "ori_LC_df = LC_df.copy()\n",
    "ori_HDI_df_long = HDI_df_long.copy()\n",
    "print(len(ori_LC_df.country.unique()))\n",
    "print(len(ori_HDI_df_long.country.unique()))\n"
   ]
  },
  {
   "cell_type": "markdown",
   "metadata": {},
   "source": [
    "#### First unify countries names in both dataframes"
   ]
  },
  {
   "cell_type": "code",
   "execution_count": 20,
   "metadata": {
    "scrolled": true
   },
   "outputs": [
    {
     "data": {
      "text/plain": [
       "array([' Afghanistan', ' Albania', ' Algeria', ' Andorra', ' Angola',\n",
       "       ' Antigua and Barbuda', ' Argentina', ' Armenia', ' Australia',\n",
       "       ' Austria', ' Azerbaijan', ' Bahamas', ' Bahrain', ' Bangladesh',\n",
       "       ' Barbados', ' Belarus', ' Belgium', ' Belize', ' Benin', ' Bhutan',\n",
       "       ' Bolivia (Plurinational State of)', ' Bosnia and Herzegovina',\n",
       "       ' Botswana', ' Brazil', ' Brunei Darussalam', ' Bulgaria',\n",
       "       ' Burkina Faso', ' Burundi', ' Cabo Verde', ' Cambodia',\n",
       "       ' Cameroon', ' Canada', ' Central African Republic', ' Chad',\n",
       "       ' Chile', ' China', ' Colombia', ' Comoros', ' Congo',\n",
       "       ' Congo (Democratic Republic of the)', ' Costa Rica', ' Croatia',\n",
       "       ' Cuba', ' Cyprus', ' Czech Republic', ' Denmark', ' Djibouti',\n",
       "       ' Dominica', ' Dominican Republic', ' Ecuador', ' Egypt',\n",
       "       ' El Salvador', ' Equatorial Guinea', ' Eritrea', ' Estonia',\n",
       "       ' Ethiopia', ' Fiji', ' Finland', ' France', ' Gabon', ' Gambia',\n",
       "       ' Georgia', ' Germany', ' Ghana', ' Greece', ' Grenada',\n",
       "       ' Guatemala', ' Guinea', ' Guinea-Bissau', ' Guyana', ' Haiti',\n",
       "       ' Honduras', ' Hong Kong, China (SAR)', ' Hungary', ' Iceland',\n",
       "       ' India', ' Indonesia', ' Iran (Islamic Republic of)', ' Iraq',\n",
       "       ' Ireland', ' Israel', ' Italy', ' Jamaica', ' Japan', ' Jordan',\n",
       "       ' Kazakhstan', ' Kenya', ' Kiribati', ' Korea (Republic of)',\n",
       "       ' Kuwait', ' Kyrgyzstan', \" Lao People's Democratic Republic\",\n",
       "       ' Latvia', ' Lebanon', ' Lesotho', ' Liberia', ' Libya',\n",
       "       ' Liechtenstein', ' Lithuania', ' Luxembourg', ' Madagascar',\n",
       "       ' Malawi', ' Malaysia', ' Maldives', ' Mali', ' Malta',\n",
       "       ' Mauritania', ' Mauritius', ' Mexico',\n",
       "       ' Micronesia (Federated States of)', ' Moldova (Republic of)',\n",
       "       ' Mongolia', ' Montenegro', ' Morocco', ' Mozambique', ' Myanmar',\n",
       "       ' Namibia', ' Nepal', ' Netherlands', ' New Zealand', ' Nicaragua',\n",
       "       ' Niger', ' Nigeria', ' Norway', ' Oman', ' Pakistan', ' Palau',\n",
       "       ' Palestine, State of', ' Panama', ' Papua New Guinea', ' Paraguay',\n",
       "       ' Peru', ' Philippines', ' Poland', ' Portugal', ' Qatar',\n",
       "       ' Romania', ' Russian Federation', ' Rwanda',\n",
       "       ' Saint Kitts and Nevis', ' Saint Lucia',\n",
       "       ' Saint Vincent and the Grenadines', ' Samoa',\n",
       "       ' Sao Tome and Principe', ' Saudi Arabia', ' Senegal', ' Serbia',\n",
       "       ' Seychelles', ' Sierra Leone', ' Singapore', ' Slovakia',\n",
       "       ' Slovenia', ' Solomon Islands', ' South Africa', ' South Sudan',\n",
       "       ' Spain', ' Sri Lanka', ' Sudan', ' Suriname', ' Swaziland',\n",
       "       ' Sweden', ' Switzerland', ' Syrian Arab Republic', ' Tajikistan',\n",
       "       ' Tanzania (United Republic of)', ' Thailand',\n",
       "       ' The former Yugoslav Republic of Macedonia', ' Timor-Leste',\n",
       "       ' Togo', ' Tonga', ' Trinidad and Tobago', ' Tunisia', ' Turkey',\n",
       "       ' Turkmenistan', ' Uganda', ' Ukraine', ' United Arab Emirates',\n",
       "       ' United Kingdom', ' United States', ' Uruguay', ' Uzbekistan',\n",
       "       ' Vanuatu', ' Venezuela (Bolivarian Republic of)', ' Viet Nam',\n",
       "       ' Yemen', ' Zambia', ' Zimbabwe', \"Cote d'Ivoire\"], dtype=object)"
      ]
     },
     "execution_count": 20,
     "metadata": {},
     "output_type": "execute_result"
    }
   ],
   "source": [
    "HDI_df_long.country.unique()"
   ]
  },
  {
   "cell_type": "code",
   "execution_count": 21,
   "metadata": {},
   "outputs": [],
   "source": [
    "#TO OPTIMISE : Move the normalisation to time of reading\n",
    "def country_unification(country_name , country_dict):\n",
    "    name = ''\n",
    "    for item in country_dict.items():\n",
    "        if [s for s in item[1] if country_name.strip().replace(\"’\", \"'\") == s.strip().replace(\"’\", \"'\")]:\n",
    "            name = item[0].strip()\n",
    "            #print(name)\n",
    "    return name"
   ]
  },
  {
   "cell_type": "code",
   "execution_count": 22,
   "metadata": {
    "scrolled": true
   },
   "outputs": [],
   "source": [
    "#Check for duplicates in HDI-df_long\n",
    "duplicates_HDI = set()\n",
    "for i in HDI_df_long.country.unique():\n",
    "    unified_name = country_unification(i, countries_dict)\n",
    "    if unified_name in duplicates_HDI:\n",
    "        print('it is already there: {} -> {}'.format(i, unified_name))\n",
    "    HDI_df_long.country[HDI_df_long.country==i] = unified_name\n",
    "    duplicates_HDI.add(unified_name)"
   ]
  },
  {
   "cell_type": "code",
   "execution_count": 23,
   "metadata": {
    "scrolled": true
   },
   "outputs": [],
   "source": [
    "#Check for duplicates in LC_df\n",
    "duplicates_LC = set()\n",
    "for i in LC_df.country.unique():\n",
    "    unified_name = country_unification(i, countries_dict)\n",
    "    if unified_name in duplicates_LC:\n",
    "        print('it is already there: {} -> {}'.format(i, unified_name))\n",
    "    LC_df.country[LC_df.country == i] = unified_name\n",
    "    duplicates_LC.add(unified_name)"
   ]
  },
  {
   "cell_type": "code",
   "execution_count": 24,
   "metadata": {
    "scrolled": true
   },
   "outputs": [
    {
     "name": "stdout",
     "output_type": "stream",
     "text": [
      "195\n",
      "188\n"
     ]
    }
   ],
   "source": [
    "#Make sure all countries are normalised\n",
    "print (len(LC_df.country.unique()))\n",
    "print(len(HDI_df_long.country.unique()))\n"
   ]
  },
  {
   "cell_type": "code",
   "execution_count": 25,
   "metadata": {},
   "outputs": [
    {
     "name": "stdout",
     "output_type": "stream",
     "text": [
      "188\n",
      "195\n"
     ]
    }
   ],
   "source": [
    "print(len(duplicates_HDI))\n",
    "print(len(duplicates_LC))"
   ]
  },
  {
   "cell_type": "markdown",
   "metadata": {},
   "source": [
    "#### Control the missing countries"
   ]
  },
  {
   "cell_type": "code",
   "execution_count": 26,
   "metadata": {},
   "outputs": [],
   "source": [
    "def country_missing(ori_list, res_list):\n",
    "    Countries = [x for x in ori_list if x not in res_list]\n",
    "    return Countries"
   ]
  },
  {
   "cell_type": "code",
   "execution_count": 27,
   "metadata": {},
   "outputs": [],
   "source": [
    "LC_df_missing = country_missing(ori_LC_df.country.unique(), LC_df.country.unique())"
   ]
  },
  {
   "cell_type": "code",
   "execution_count": 28,
   "metadata": {},
   "outputs": [
    {
     "data": {
      "text/plain": [
       "8"
      ]
     },
     "execution_count": 28,
     "metadata": {},
     "output_type": "execute_result"
    }
   ],
   "source": [
    "len(LC_df_missing)"
   ]
  },
  {
   "cell_type": "code",
   "execution_count": 29,
   "metadata": {},
   "outputs": [],
   "source": [
    "HDI_df_long_missing = country_missing(ori_HDI_df_long.country.unique(), HDI_df_long.country.unique())"
   ]
  },
  {
   "cell_type": "code",
   "execution_count": 30,
   "metadata": {},
   "outputs": [
    {
     "data": {
      "text/plain": [
       "188"
      ]
     },
     "execution_count": 30,
     "metadata": {},
     "output_type": "execute_result"
    }
   ],
   "source": [
    "len(HDI_df_long_missing)"
   ]
  },
  {
   "cell_type": "code",
   "execution_count": 31,
   "metadata": {},
   "outputs": [],
   "source": [
    "#HDI missing countries      HDI_df_long.country.unique()-Countries\n",
    "HDI_df_list = [x.strip() for x in HDI_df_long.country.unique()]\n",
    "Countries_list = [x.strip() for x in HDI_df_long_missing]\n",
    "l3 = [x for x in HDI_df_list if x not in Countries_list]"
   ]
  },
  {
   "cell_type": "code",
   "execution_count": 32,
   "metadata": {},
   "outputs": [
    {
     "name": "stdout",
     "output_type": "stream",
     "text": [
      "188\n",
      "19\n"
     ]
    }
   ],
   "source": [
    "print(len(HDI_df_long_missing))\n",
    "print(len(l3))\n"
   ]
  },
  {
   "cell_type": "code",
   "execution_count": 33,
   "metadata": {},
   "outputs": [],
   "source": [
    "#LC missing countries      HDI_df_long.country.unique()-Countries\n",
    "LC_df_list = [x.strip() for x in LC_df.country.unique()]\n",
    "Countries_list = [x.strip() for x in LC_df_missing]\n",
    "l3 = [x for x in LC_df_list if x not in Countries_list]"
   ]
  },
  {
   "cell_type": "code",
   "execution_count": 34,
   "metadata": {},
   "outputs": [
    {
     "name": "stdout",
     "output_type": "stream",
     "text": [
      "8\n",
      "195\n"
     ]
    }
   ],
   "source": [
    "print(len(LC_df_missing))\n",
    "print(len(l3))\n"
   ]
  },
  {
   "cell_type": "markdown",
   "metadata": {},
   "source": [
    "#### Creat LC_HDI : combine LC_df and HDI_df_long "
   ]
  },
  {
   "cell_type": "code",
   "execution_count": 35,
   "metadata": {},
   "outputs": [
    {
     "data": {
      "text/html": [
       "<div>\n",
       "<style>\n",
       "    .dataframe thead tr:only-child th {\n",
       "        text-align: right;\n",
       "    }\n",
       "\n",
       "    .dataframe thead th {\n",
       "        text-align: left;\n",
       "    }\n",
       "\n",
       "    .dataframe tbody tr th {\n",
       "        vertical-align: top;\n",
       "    }\n",
       "</style>\n",
       "<table border=\"1\" class=\"dataframe\">\n",
       "  <thead>\n",
       "    <tr style=\"text-align: right;\">\n",
       "      <th></th>\n",
       "      <th>country</th>\n",
       "      <th>year</th>\n",
       "      <th>sex</th>\n",
       "      <th>MR</th>\n",
       "      <th>region</th>\n",
       "      <th>super_region</th>\n",
       "    </tr>\n",
       "  </thead>\n",
       "  <tbody>\n",
       "    <tr>\n",
       "      <th>0</th>\n",
       "      <td>Afghanistan</td>\n",
       "      <td>1990</td>\n",
       "      <td>Male</td>\n",
       "      <td>31.086848</td>\n",
       "      <td>5</td>\n",
       "      <td>2</td>\n",
       "    </tr>\n",
       "    <tr>\n",
       "      <th>1</th>\n",
       "      <td>Afghanistan</td>\n",
       "      <td>1990</td>\n",
       "      <td>Female</td>\n",
       "      <td>11.711023</td>\n",
       "      <td>5</td>\n",
       "      <td>2</td>\n",
       "    </tr>\n",
       "    <tr>\n",
       "      <th>2</th>\n",
       "      <td>Afghanistan</td>\n",
       "      <td>1990</td>\n",
       "      <td>Both</td>\n",
       "      <td>21.094622</td>\n",
       "      <td>5</td>\n",
       "      <td>2</td>\n",
       "    </tr>\n",
       "    <tr>\n",
       "      <th>3</th>\n",
       "      <td>Afghanistan</td>\n",
       "      <td>1991</td>\n",
       "      <td>Male</td>\n",
       "      <td>31.152613</td>\n",
       "      <td>5</td>\n",
       "      <td>2</td>\n",
       "    </tr>\n",
       "    <tr>\n",
       "      <th>4</th>\n",
       "      <td>Afghanistan</td>\n",
       "      <td>1991</td>\n",
       "      <td>Female</td>\n",
       "      <td>11.667114</td>\n",
       "      <td>5</td>\n",
       "      <td>2</td>\n",
       "    </tr>\n",
       "  </tbody>\n",
       "</table>\n",
       "</div>"
      ],
      "text/plain": [
       "       country  year     sex         MR region super_region\n",
       "0  Afghanistan  1990    Male  31.086848      5            2\n",
       "1  Afghanistan  1990  Female  11.711023      5            2\n",
       "2  Afghanistan  1990    Both  21.094622      5            2\n",
       "3  Afghanistan  1991    Male  31.152613      5            2\n",
       "4  Afghanistan  1991  Female  11.667114      5            2"
      ]
     },
     "execution_count": 35,
     "metadata": {},
     "output_type": "execute_result"
    }
   ],
   "source": [
    "LC_df.head()"
   ]
  },
  {
   "cell_type": "code",
   "execution_count": 36,
   "metadata": {},
   "outputs": [
    {
     "data": {
      "text/html": [
       "<div>\n",
       "<style>\n",
       "    .dataframe thead tr:only-child th {\n",
       "        text-align: right;\n",
       "    }\n",
       "\n",
       "    .dataframe thead th {\n",
       "        text-align: left;\n",
       "    }\n",
       "\n",
       "    .dataframe tbody tr th {\n",
       "        vertical-align: top;\n",
       "    }\n",
       "</style>\n",
       "<table border=\"1\" class=\"dataframe\">\n",
       "  <thead>\n",
       "    <tr style=\"text-align: right;\">\n",
       "      <th></th>\n",
       "      <th>country</th>\n",
       "      <th>id</th>\n",
       "      <th>year</th>\n",
       "      <th>HDI</th>\n",
       "    </tr>\n",
       "  </thead>\n",
       "  <tbody>\n",
       "    <tr>\n",
       "      <th>0</th>\n",
       "      <td>Afghanistan</td>\n",
       "      <td>0</td>\n",
       "      <td>1990</td>\n",
       "      <td>0.295</td>\n",
       "    </tr>\n",
       "    <tr>\n",
       "      <th>1</th>\n",
       "      <td>Afghanistan</td>\n",
       "      <td>0</td>\n",
       "      <td>1991</td>\n",
       "      <td>0.300</td>\n",
       "    </tr>\n",
       "    <tr>\n",
       "      <th>2</th>\n",
       "      <td>Afghanistan</td>\n",
       "      <td>0</td>\n",
       "      <td>1992</td>\n",
       "      <td>0.309</td>\n",
       "    </tr>\n",
       "    <tr>\n",
       "      <th>3</th>\n",
       "      <td>Afghanistan</td>\n",
       "      <td>0</td>\n",
       "      <td>1993</td>\n",
       "      <td>0.305</td>\n",
       "    </tr>\n",
       "    <tr>\n",
       "      <th>4</th>\n",
       "      <td>Afghanistan</td>\n",
       "      <td>0</td>\n",
       "      <td>1994</td>\n",
       "      <td>0.300</td>\n",
       "    </tr>\n",
       "  </tbody>\n",
       "</table>\n",
       "</div>"
      ],
      "text/plain": [
       "       country  id  year    HDI\n",
       "0  Afghanistan   0  1990  0.295\n",
       "1  Afghanistan   0  1991  0.300\n",
       "2  Afghanistan   0  1992  0.309\n",
       "3  Afghanistan   0  1993  0.305\n",
       "4  Afghanistan   0  1994  0.300"
      ]
     },
     "execution_count": 36,
     "metadata": {},
     "output_type": "execute_result"
    }
   ],
   "source": [
    "HDI_df_long.head()"
   ]
  },
  {
   "cell_type": "code",
   "execution_count": 37,
   "metadata": {},
   "outputs": [],
   "source": [
    "col_names = [\"id\" , \"country\", \"year\", \"sex\", \"MR\", \"region\", \"super_region\", \"HDI\"]\n",
    "LC_HDI = pd.DataFrame(columns= col_names)"
   ]
  },
  {
   "cell_type": "code",
   "execution_count": 39,
   "metadata": {},
   "outputs": [],
   "source": [
    "for i in range(LC_df.shape[0]):\n",
    "    for j in range(HDI_df_long.shape[0]):\n",
    "        country_HDI = HDI_df_long.iloc[j , HDI_df_long.columns.get_loc(\"country\")].strip()\n",
    "        country_LC = LC_df.iloc[i,LC_df.columns.get_loc(\"country\")].strip()\n",
    "        if country_HDI== country_LC:\n",
    "            year_HDI = str(HDI_df_long.iloc[j,HDI_df_long.columns.get_loc(\"year\")])\n",
    "            year_LC = str(LC_df.iloc[i,LC_df.columns.get_loc(\"year\")])\n",
    "            if year_HDI == year_LC:\n",
    "                LC_HDI = LC_HDI.append({'id': HDI_df_long.iloc[j,HDI_df_long.columns.get_loc(\"id\")],\n",
    "                                        'country': HDI_df_long.iloc[j,HDI_df_long.columns.get_loc(\"country\")],\n",
    "                                        'year': LC_df.iloc[i,LC_df.columns.get_loc(\"year\")],\n",
    "                                        'sex': LC_df.iloc[i,LC_df.columns.get_loc(\"sex\")],\n",
    "                                        'MR': LC_df.iloc[i,LC_df.columns.get_loc(\"MR\")],\n",
    "                                        'region': LC_df.iloc[i,LC_df.columns.get_loc(\"region\")],\n",
    "                                        'super_region': LC_df.iloc[i,LC_df.columns.get_loc(\"super_region\")],\n",
    "                                        'HDI': HDI_df_long.iloc[j,HDI_df_long.columns.get_loc(\"HDI\")]\n",
    "                                       }, ignore_index=True)"
   ]
  },
  {
   "cell_type": "code",
   "execution_count": 40,
   "metadata": {},
   "outputs": [
    {
     "data": {
      "text/html": [
       "<div>\n",
       "<style>\n",
       "    .dataframe thead tr:only-child th {\n",
       "        text-align: right;\n",
       "    }\n",
       "\n",
       "    .dataframe thead th {\n",
       "        text-align: left;\n",
       "    }\n",
       "\n",
       "    .dataframe tbody tr th {\n",
       "        vertical-align: top;\n",
       "    }\n",
       "</style>\n",
       "<table border=\"1\" class=\"dataframe\">\n",
       "  <thead>\n",
       "    <tr style=\"text-align: right;\">\n",
       "      <th></th>\n",
       "      <th>id</th>\n",
       "      <th>country</th>\n",
       "      <th>year</th>\n",
       "      <th>sex</th>\n",
       "      <th>MR</th>\n",
       "      <th>region</th>\n",
       "      <th>super_region</th>\n",
       "      <th>HDI</th>\n",
       "    </tr>\n",
       "  </thead>\n",
       "  <tbody>\n",
       "    <tr>\n",
       "      <th>0</th>\n",
       "      <td>0</td>\n",
       "      <td>Afghanistan</td>\n",
       "      <td>1990</td>\n",
       "      <td>Male</td>\n",
       "      <td>31.086848</td>\n",
       "      <td>5</td>\n",
       "      <td>2</td>\n",
       "      <td>0.295</td>\n",
       "    </tr>\n",
       "    <tr>\n",
       "      <th>1</th>\n",
       "      <td>0</td>\n",
       "      <td>Afghanistan</td>\n",
       "      <td>1990</td>\n",
       "      <td>Female</td>\n",
       "      <td>11.711023</td>\n",
       "      <td>5</td>\n",
       "      <td>2</td>\n",
       "      <td>0.295</td>\n",
       "    </tr>\n",
       "    <tr>\n",
       "      <th>2</th>\n",
       "      <td>0</td>\n",
       "      <td>Afghanistan</td>\n",
       "      <td>1990</td>\n",
       "      <td>Both</td>\n",
       "      <td>21.094622</td>\n",
       "      <td>5</td>\n",
       "      <td>2</td>\n",
       "      <td>0.295</td>\n",
       "    </tr>\n",
       "    <tr>\n",
       "      <th>3</th>\n",
       "      <td>0</td>\n",
       "      <td>Afghanistan</td>\n",
       "      <td>1991</td>\n",
       "      <td>Male</td>\n",
       "      <td>31.152613</td>\n",
       "      <td>5</td>\n",
       "      <td>2</td>\n",
       "      <td>0.300</td>\n",
       "    </tr>\n",
       "    <tr>\n",
       "      <th>4</th>\n",
       "      <td>0</td>\n",
       "      <td>Afghanistan</td>\n",
       "      <td>1991</td>\n",
       "      <td>Female</td>\n",
       "      <td>11.667114</td>\n",
       "      <td>5</td>\n",
       "      <td>2</td>\n",
       "      <td>0.300</td>\n",
       "    </tr>\n",
       "  </tbody>\n",
       "</table>\n",
       "</div>"
      ],
      "text/plain": [
       "  id      country  year     sex         MR region super_region    HDI\n",
       "0  0  Afghanistan  1990    Male  31.086848      5            2  0.295\n",
       "1  0  Afghanistan  1990  Female  11.711023      5            2  0.295\n",
       "2  0  Afghanistan  1990    Both  21.094622      5            2  0.295\n",
       "3  0  Afghanistan  1991    Male  31.152613      5            2  0.300\n",
       "4  0  Afghanistan  1991  Female  11.667114      5            2  0.300"
      ]
     },
     "execution_count": 40,
     "metadata": {},
     "output_type": "execute_result"
    }
   ],
   "source": [
    "LC_HDI.head()"
   ]
  },
  {
   "cell_type": "code",
   "execution_count": 41,
   "metadata": {},
   "outputs": [],
   "source": [
    "LC_HDI.to_csv(\"Data/LC_HDI.csv\")"
   ]
  },
  {
   "cell_type": "markdown",
   "metadata": {},
   "source": [
    "> ### Separate Both, Female and Male"
   ]
  },
  {
   "cell_type": "code",
   "execution_count": 42,
   "metadata": {},
   "outputs": [],
   "source": [
    "LC_HDI_both = LC_HDI[LC_HDI.sex==\"Both\"]\n",
    "LC_HDI_both.to_csv(\"Data/LC_HDI_both.csv\")"
   ]
  },
  {
   "cell_type": "code",
   "execution_count": 43,
   "metadata": {},
   "outputs": [],
   "source": [
    "LC_HDI_female = LC_HDI[LC_HDI.sex==\"Female\"]\n",
    "LC_HDI_female.to_csv(\"Data/LC_HDI_female.csv\")"
   ]
  },
  {
   "cell_type": "code",
   "execution_count": 44,
   "metadata": {},
   "outputs": [],
   "source": [
    "LC_HDI_male = LC_HDI[LC_HDI.sex==\"Male\"]\n",
    "LC_HDI_male.to_csv(\"Data/LC_HDI_male.csv\")"
   ]
  }
 ],
 "metadata": {
  "kernelspec": {
   "display_name": "Python 3",
   "language": "python",
   "name": "python3"
  },
  "language_info": {
   "codemirror_mode": {
    "name": "ipython",
    "version": 3
   },
   "file_extension": ".py",
   "mimetype": "text/x-python",
   "name": "python",
   "nbconvert_exporter": "python",
   "pygments_lexer": "ipython3",
   "version": "3.6.3"
  }
 },
 "nbformat": 4,
 "nbformat_minor": 2
}
