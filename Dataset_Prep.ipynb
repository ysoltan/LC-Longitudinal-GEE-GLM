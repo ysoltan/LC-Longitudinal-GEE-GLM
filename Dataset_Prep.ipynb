{
 "cells": [
  {
   "cell_type": "markdown",
   "metadata": {},
   "source": [
    "## Data Prep Mortality rate, Human Development Index and Regions/Super_Regions"
   ]
  },
  {
   "cell_type": "code",
   "execution_count": 1,
   "metadata": {},
   "outputs": [],
   "source": [
    "import numpy as np\n",
    "import pandas as pd\n",
    "\n",
    "from os import path"
   ]
  },
  {
   "cell_type": "code",
   "execution_count": 2,
   "metadata": {},
   "outputs": [],
   "source": [
    "p = path.join('Data', 'IHME-GBD_2016_Lung.csv')\n",
    "p = path.abspath(p)"
   ]
  },
  {
   "cell_type": "code",
   "execution_count": 3,
   "metadata": {
    "scrolled": false
   },
   "outputs": [],
   "source": [
    "# Data are collected from: Global Health Data Exchange\n",
    "LC_url = \"Data/IHME-GBD_2016_Lung.csv\"\n",
    "LC_df = pd.read_csv(LC_url)\n",
    "\n",
    "#Data are collected from: UNITED NATIONS DEVELOPMENT PROGRAMME, Human Development Reports\n",
    "\n",
    "HDI_url = \"Data/Human development index (HDI)1990-2015.csv\"\n",
    "HDI_df = pd.read_csv(HDI_url)\n",
    "\n",
    "\n",
    "r_sr_url = \"Data/r_rs.csv\"\n",
    "r_sr_df = pd.read_csv(r_sr_url)\n",
    "r_sr_df.drop(\"Unnamed: 0\", axis=1,inplace=True)"
   ]
  },
  {
   "cell_type": "code",
   "execution_count": 4,
   "metadata": {},
   "outputs": [
    {
     "name": "stdout",
     "output_type": "stream",
     "text": [
      "<class 'pandas.core.frame.DataFrame'>\n",
      "RangeIndex: 15795 entries, 0 to 15794\n",
      "Data columns (total 10 columns):\n",
      "measure     15795 non-null object\n",
      "location    15795 non-null object\n",
      "sex         15795 non-null object\n",
      "age         15795 non-null object\n",
      "cause       15795 non-null object\n",
      "metric      15795 non-null object\n",
      "year        15795 non-null int64\n",
      "val         15795 non-null float64\n",
      "upper       15795 non-null float64\n",
      "lower       15795 non-null float64\n",
      "dtypes: float64(3), int64(1), object(6)\n",
      "memory usage: 1.2+ MB\n"
     ]
    }
   ],
   "source": [
    "LC_df.info()"
   ]
  },
  {
   "cell_type": "markdown",
   "metadata": {},
   "source": [
    "> ### Need to rename year columns to be able to change the current wide form into long form   "
   ]
  },
  {
   "cell_type": "code",
   "execution_count": 5,
   "metadata": {},
   "outputs": [],
   "source": [
    "for i in range(2,HDI_df.columns[2:].size+2):\n",
    "    HDI_df.rename(columns={HDI_df.columns[i] : \"HDI-\"+str(HDI_df.columns[i])}, inplace=True)"
   ]
  },
  {
   "cell_type": "code",
   "execution_count": 6,
   "metadata": {},
   "outputs": [],
   "source": [
    "HDI_df_long = pd.wide_to_long(HDI_df,\"HDI\", i= \"Country\" ,j = \"Year\", sep=\"-\", suffix='\\w')\n",
    "HDI_df_long.sort_index(inplace=True)\n",
    "HDI_df_long.reset_index(inplace=True)"
   ]
  },
  {
   "cell_type": "markdown",
   "metadata": {},
   "source": [
    "> ### Need to add a column for  HDI from long form dataframe HDI_df_long"
   ]
  },
  {
   "cell_type": "code",
   "execution_count": 7,
   "metadata": {
    "scrolled": true
   },
   "outputs": [],
   "source": [
    "LC_df[\"HDI\"] = \"\"\n",
    "for i in range(LC_df.shape[0]):\n",
    "    for j in range(HDI_df.shape[0]) :\n",
    "        if LC_df.iloc[i,1]==HDI_df_long.iloc[j,0].strip()and str(LC_df.iloc[i,6]) ==HDI_df_long.iloc[j,1]: \n",
    "            LC_df.iloc[i,10] = float(HDI_df_long.iloc[j,3])\n"
   ]
  },
  {
   "cell_type": "markdown",
   "metadata": {},
   "source": [
    "> ### Need to add region and super region "
   ]
  },
  {
   "cell_type": "code",
   "execution_count": 8,
   "metadata": {},
   "outputs": [],
   "source": [
    "LC_df[\"region\"] =\"\"\n",
    "LC_df[\"super_region\"]=\"\""
   ]
  },
  {
   "cell_type": "code",
   "execution_count": 9,
   "metadata": {},
   "outputs": [],
   "source": [
    "for i in range(LC_df.shape[0]):\n",
    "    for j in range(r_sr_df.shape[0]):\n",
    "        if LC_df.iloc[i,1] == r_sr_df.iloc[j,0]:\n",
    "            LC_df.iloc[i,11] = r_sr_df.iloc[j,1]\n",
    "            LC_df.iloc[i,12] = r_sr_df.iloc[j,2]"
   ]
  },
  {
   "cell_type": "code",
   "execution_count": 10,
   "metadata": {},
   "outputs": [
    {
     "name": "stdout",
     "output_type": "stream",
     "text": [
      "<class 'pandas.core.frame.DataFrame'>\n",
      "RangeIndex: 15795 entries, 0 to 15794\n",
      "Data columns (total 13 columns):\n",
      "measure         15795 non-null object\n",
      "location        15795 non-null object\n",
      "sex             15795 non-null object\n",
      "age             15795 non-null object\n",
      "cause           15795 non-null object\n",
      "metric          15795 non-null object\n",
      "year            15795 non-null int64\n",
      "val             15795 non-null float64\n",
      "upper           15795 non-null float64\n",
      "lower           15795 non-null float64\n",
      "HDI             15663 non-null object\n",
      "region          15795 non-null object\n",
      "super_region    15795 non-null object\n",
      "dtypes: float64(3), int64(1), object(9)\n",
      "memory usage: 1.6+ MB\n"
     ]
    }
   ],
   "source": [
    "LC_df.info()"
   ]
  },
  {
   "cell_type": "code",
   "execution_count": 11,
   "metadata": {},
   "outputs": [],
   "source": [
    "LC_df.to_csv(\"Data/LC_HDI.csv\")"
   ]
  }
 ],
 "metadata": {
  "kernelspec": {
   "display_name": "Python 3",
   "language": "python",
   "name": "python3"
  },
  "language_info": {
   "codemirror_mode": {
    "name": "ipython",
    "version": 3
   },
   "file_extension": ".py",
   "mimetype": "text/x-python",
   "name": "python",
   "nbconvert_exporter": "python",
   "pygments_lexer": "ipython3",
   "version": "3.6.3"
  }
 },
 "nbformat": 4,
 "nbformat_minor": 2
}
